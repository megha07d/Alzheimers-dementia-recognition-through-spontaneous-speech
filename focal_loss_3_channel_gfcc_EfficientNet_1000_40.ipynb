{
  "cells": [
    {
      "cell_type": "code",
      "execution_count": 4,
      "metadata": {
        "colab": {
          "base_uri": "https://localhost:8080/"
        },
        "id": "sZEPvxYQIZSO",
        "outputId": "8d72c353-69e7-4049-fd6d-7aa7808c5bef"
      },
      "outputs": [
        {
          "output_type": "stream",
          "name": "stdout",
          "text": [
            "Mounted at /content/drive\n",
            "Looking in indexes: https://pypi.org/simple, https://us-python.pkg.dev/colab-wheels/public/simple/\n",
            "Requirement already satisfied: tensorflow in /usr/local/lib/python3.10/dist-packages (2.12.0)\n",
            "Requirement already satisfied: absl-py>=1.0.0 in /usr/local/lib/python3.10/dist-packages (from tensorflow) (1.4.0)\n",
            "Requirement already satisfied: astunparse>=1.6.0 in /usr/local/lib/python3.10/dist-packages (from tensorflow) (1.6.3)\n",
            "Requirement already satisfied: flatbuffers>=2.0 in /usr/local/lib/python3.10/dist-packages (from tensorflow) (23.5.26)\n",
            "Requirement already satisfied: gast<=0.4.0,>=0.2.1 in /usr/local/lib/python3.10/dist-packages (from tensorflow) (0.4.0)\n",
            "Requirement already satisfied: google-pasta>=0.1.1 in /usr/local/lib/python3.10/dist-packages (from tensorflow) (0.2.0)\n",
            "Requirement already satisfied: grpcio<2.0,>=1.24.3 in /usr/local/lib/python3.10/dist-packages (from tensorflow) (1.56.0)\n",
            "Requirement already satisfied: h5py>=2.9.0 in /usr/local/lib/python3.10/dist-packages (from tensorflow) (3.8.0)\n",
            "Requirement already satisfied: jax>=0.3.15 in /usr/local/lib/python3.10/dist-packages (from tensorflow) (0.4.10)\n",
            "Requirement already satisfied: keras<2.13,>=2.12.0 in /usr/local/lib/python3.10/dist-packages (from tensorflow) (2.12.0)\n",
            "Requirement already satisfied: libclang>=13.0.0 in /usr/local/lib/python3.10/dist-packages (from tensorflow) (16.0.0)\n",
            "Requirement already satisfied: numpy<1.24,>=1.22 in /usr/local/lib/python3.10/dist-packages (from tensorflow) (1.22.4)\n",
            "Requirement already satisfied: opt-einsum>=2.3.2 in /usr/local/lib/python3.10/dist-packages (from tensorflow) (3.3.0)\n",
            "Requirement already satisfied: packaging in /usr/local/lib/python3.10/dist-packages (from tensorflow) (23.1)\n",
            "Requirement already satisfied: protobuf!=4.21.0,!=4.21.1,!=4.21.2,!=4.21.3,!=4.21.4,!=4.21.5,<5.0.0dev,>=3.20.3 in /usr/local/lib/python3.10/dist-packages (from tensorflow) (3.20.3)\n",
            "Requirement already satisfied: setuptools in /usr/local/lib/python3.10/dist-packages (from tensorflow) (67.7.2)\n",
            "Requirement already satisfied: six>=1.12.0 in /usr/local/lib/python3.10/dist-packages (from tensorflow) (1.16.0)\n",
            "Requirement already satisfied: tensorboard<2.13,>=2.12 in /usr/local/lib/python3.10/dist-packages (from tensorflow) (2.12.3)\n",
            "Requirement already satisfied: tensorflow-estimator<2.13,>=2.12.0 in /usr/local/lib/python3.10/dist-packages (from tensorflow) (2.12.0)\n",
            "Requirement already satisfied: termcolor>=1.1.0 in /usr/local/lib/python3.10/dist-packages (from tensorflow) (2.3.0)\n",
            "Requirement already satisfied: typing-extensions>=3.6.6 in /usr/local/lib/python3.10/dist-packages (from tensorflow) (4.6.3)\n",
            "Requirement already satisfied: wrapt<1.15,>=1.11.0 in /usr/local/lib/python3.10/dist-packages (from tensorflow) (1.14.1)\n",
            "Requirement already satisfied: tensorflow-io-gcs-filesystem>=0.23.1 in /usr/local/lib/python3.10/dist-packages (from tensorflow) (0.32.0)\n",
            "Requirement already satisfied: wheel<1.0,>=0.23.0 in /usr/local/lib/python3.10/dist-packages (from astunparse>=1.6.0->tensorflow) (0.40.0)\n",
            "Requirement already satisfied: ml-dtypes>=0.1.0 in /usr/local/lib/python3.10/dist-packages (from jax>=0.3.15->tensorflow) (0.2.0)\n",
            "Requirement already satisfied: scipy>=1.7 in /usr/local/lib/python3.10/dist-packages (from jax>=0.3.15->tensorflow) (1.10.1)\n",
            "Requirement already satisfied: google-auth<3,>=1.6.3 in /usr/local/lib/python3.10/dist-packages (from tensorboard<2.13,>=2.12->tensorflow) (2.17.3)\n",
            "Requirement already satisfied: google-auth-oauthlib<1.1,>=0.5 in /usr/local/lib/python3.10/dist-packages (from tensorboard<2.13,>=2.12->tensorflow) (1.0.0)\n",
            "Requirement already satisfied: markdown>=2.6.8 in /usr/local/lib/python3.10/dist-packages (from tensorboard<2.13,>=2.12->tensorflow) (3.4.3)\n",
            "Requirement already satisfied: requests<3,>=2.21.0 in /usr/local/lib/python3.10/dist-packages (from tensorboard<2.13,>=2.12->tensorflow) (2.27.1)\n",
            "Requirement already satisfied: tensorboard-data-server<0.8.0,>=0.7.0 in /usr/local/lib/python3.10/dist-packages (from tensorboard<2.13,>=2.12->tensorflow) (0.7.1)\n",
            "Requirement already satisfied: werkzeug>=1.0.1 in /usr/local/lib/python3.10/dist-packages (from tensorboard<2.13,>=2.12->tensorflow) (2.3.6)\n",
            "Requirement already satisfied: cachetools<6.0,>=2.0.0 in /usr/local/lib/python3.10/dist-packages (from google-auth<3,>=1.6.3->tensorboard<2.13,>=2.12->tensorflow) (5.3.1)\n",
            "Requirement already satisfied: pyasn1-modules>=0.2.1 in /usr/local/lib/python3.10/dist-packages (from google-auth<3,>=1.6.3->tensorboard<2.13,>=2.12->tensorflow) (0.3.0)\n",
            "Requirement already satisfied: rsa<5,>=3.1.4 in /usr/local/lib/python3.10/dist-packages (from google-auth<3,>=1.6.3->tensorboard<2.13,>=2.12->tensorflow) (4.9)\n",
            "Requirement already satisfied: requests-oauthlib>=0.7.0 in /usr/local/lib/python3.10/dist-packages (from google-auth-oauthlib<1.1,>=0.5->tensorboard<2.13,>=2.12->tensorflow) (1.3.1)\n",
            "Requirement already satisfied: urllib3<1.27,>=1.21.1 in /usr/local/lib/python3.10/dist-packages (from requests<3,>=2.21.0->tensorboard<2.13,>=2.12->tensorflow) (1.26.16)\n",
            "Requirement already satisfied: certifi>=2017.4.17 in /usr/local/lib/python3.10/dist-packages (from requests<3,>=2.21.0->tensorboard<2.13,>=2.12->tensorflow) (2023.5.7)\n",
            "Requirement already satisfied: charset-normalizer~=2.0.0 in /usr/local/lib/python3.10/dist-packages (from requests<3,>=2.21.0->tensorboard<2.13,>=2.12->tensorflow) (2.0.12)\n",
            "Requirement already satisfied: idna<4,>=2.5 in /usr/local/lib/python3.10/dist-packages (from requests<3,>=2.21.0->tensorboard<2.13,>=2.12->tensorflow) (3.4)\n",
            "Requirement already satisfied: MarkupSafe>=2.1.1 in /usr/local/lib/python3.10/dist-packages (from werkzeug>=1.0.1->tensorboard<2.13,>=2.12->tensorflow) (2.1.3)\n",
            "Requirement already satisfied: pyasn1<0.6.0,>=0.4.6 in /usr/local/lib/python3.10/dist-packages (from pyasn1-modules>=0.2.1->google-auth<3,>=1.6.3->tensorboard<2.13,>=2.12->tensorflow) (0.5.0)\n",
            "Requirement already satisfied: oauthlib>=3.0.0 in /usr/local/lib/python3.10/dist-packages (from requests-oauthlib>=0.7.0->google-auth-oauthlib<1.1,>=0.5->tensorboard<2.13,>=2.12->tensorflow) (3.2.2)\n",
            "Looking in indexes: https://pypi.org/simple, https://us-python.pkg.dev/colab-wheels/public/simple/\n",
            "Collecting spafe\n",
            "  Downloading spafe-0.3.2-py3-none-any.whl (93 kB)\n",
            "\u001b[2K     \u001b[90m━━━━━━━━━━━━━━━━━━━━━━━━━━━━━━━━━━━━━━━━\u001b[0m \u001b[32m93.5/93.5 kB\u001b[0m \u001b[31m3.5 MB/s\u001b[0m eta \u001b[36m0:00:00\u001b[0m\n",
            "\u001b[?25hRequirement already satisfied: numpy>=1.21 in /usr/local/lib/python3.10/dist-packages (from spafe) (1.22.4)\n",
            "Requirement already satisfied: scipy>=1.7.3 in /usr/local/lib/python3.10/dist-packages (from spafe) (1.10.1)\n",
            "Requirement already satisfied: typing-extensions in /usr/local/lib/python3.10/dist-packages (from spafe) (4.6.3)\n",
            "Installing collected packages: spafe\n",
            "Successfully installed spafe-0.3.2\n"
          ]
        }
      ],
      "source": [
        "\n",
        "from google.colab import drive\n",
        "drive.mount('/content/drive')\n",
        "\n",
        "!pip install tensorflow\n",
        "!pip install -U spafe\n",
        "\n",
        "\n",
        "import librosa                            # load audio\n",
        "import IPython\n",
        "\n",
        "# from spafe.features.gfcc import gfcc      # get GFCC coefs\n",
        "# from spafe.utils import SlidingWindow\n",
        "import numpy as np                        # concat , stack into 3d\n",
        "from tqdm.notebook import tqdm            # progress\n",
        "\n",
        "\n",
        "# dataframe building\n",
        "import pandas as pd\n",
        "import os                           # parse through files\n",
        "from tqdm.notebook import tqdm      # get progress\n",
        "\n",
        "\n",
        "# tensorflow\n",
        "import numpy as np\n",
        "from sklearn.model_selection import train_test_split\n",
        "import tensorflow\n",
        "from tensorflow.keras.applications.efficientnet import preprocess_input\n",
        "from tensorflow.keras.preprocessing.image import load_img, img_to_array\n",
        "from tensorflow.keras.utils import to_categorical\n",
        "from tensorflow.keras.applications import EfficientNetB0\n",
        "from tensorflow.keras.layers import GlobalAveragePooling2D, Dense\n",
        "from tensorflow.keras.models import Model"
      ]
    },
    {
      "cell_type": "markdown",
      "metadata": {
        "id": "PT7FmCnP52Ea"
      },
      "source": [
        "# **Compute GFCCs**"
      ]
    },
    {
      "cell_type": "code",
      "execution_count": 5,
      "metadata": {
        "id": "3hAEiyqe56uU"
      },
      "outputs": [],
      "source": [
        "# cepstrals.py\n",
        "\n",
        "import numpy as np\n",
        "from scipy.signal import lfilter\n",
        "from typing_extensions import Literal\n",
        "\n",
        "NormalizationType = Literal[\"mvn\", \"ms\", \"vn\", \"mn\"]\n",
        "\n",
        "\n",
        "def normalize_ceps(\n",
        "  x: np.ndarray, normalization_type: NormalizationType = \"mvn\"\n",
        ") -> np.ndarray:\n",
        "\n",
        "  return {\n",
        "      \"mvn\": (x - np.mean(x, axis=0)) / np.std(x),\n",
        "      \"ms\": x - np.mean(x, axis=0),\n",
        "      \"vn\": x / np.std(x),\n",
        "      \"mn\": (x - np.mean(x)) / (np.max(x) - np.min(x)),\n",
        "  }[normalization_type]\n",
        "\n",
        "\n",
        "def lifter_ceps(ceps: np.ndarray, lift: int = 3) -> np.ndarray:\n",
        "\n",
        "  if lift == 0 or lift > 10:\n",
        "      return ceps\n",
        "\n",
        "  elif lift > 0:\n",
        "      lift_vec = np.array([1] + [i**lift for i in range(1, ceps.shape[1])])\n",
        "      lift_mat = np.diag(lift_vec)\n",
        "      return np.dot(ceps, lift_mat)\n",
        "\n",
        "  else:\n",
        "      lift = int(-1 * lift)\n",
        "      lift_vec = 1 + (lift / 2.0) * np.sin(\n",
        "          np.pi * np.arange(1, 1 + ceps.shape[1]) / lift\n",
        "      )\n",
        "      return ceps * lift_vec\n",
        "\n",
        "\n",
        "def deltas(x: np.ndarray, w: int = 9) -> np.ndarray:\n",
        "\n",
        "  _, cols = x.shape\n",
        "  hlen = np.floor(w / 2)\n",
        "  win = np.arange(hlen, -(hlen + 1), -1, dtype=\"float32\")\n",
        "\n",
        "  xx = np.append(\n",
        "      np.append(np.tile(x[:, 0], (int(hlen), 1)).T, x, axis=1),\n",
        "      np.tile(x[:, cols - 1], (int(hlen), 1)).T,\n",
        "      axis=1,\n",
        "  )\n",
        "\n",
        "  deltas = lfilter(win, 1, xx, axis=1)[:, int(2 * hlen) : int(2 * hlen + cols)]\n",
        "  return deltas"
      ]
    },
    {
      "cell_type": "code",
      "execution_count": 6,
      "metadata": {
        "id": "tinQZqTv6XHB"
      },
      "outputs": [],
      "source": [
        "# converters.py\n",
        "\n",
        "import numpy as np\n",
        "from typing_extensions import Literal\n",
        "\n",
        "# init vars\n",
        "F0 = 0\n",
        "FSP = 200 / 3\n",
        "BARK_FREQ = 1000\n",
        "BARK_PT = (BARK_FREQ - F0) / FSP\n",
        "LOGSTEP = np.exp(np.log(6.4) / 27.0)\n",
        "A = (1000 * np.log(10)) / (24.7 * 4.37)\n",
        "\n",
        "ErbConversionApproach = Literal[\"Glasberg\"]\n",
        "\n",
        "\n",
        "def hz2erb(f: float, approach: ErbConversionApproach = \"Glasberg\") -> float:\n",
        "\n",
        "  if approach == \"Glasberg\":\n",
        "      return A * np.log10(1 + f * 0.00437)\n",
        "\n",
        "\n",
        "def erb2hz(fe: float, approach: ErbConversionApproach = \"Glasberg\") -> float:\n",
        "\n",
        "  if approach == \"Glasberg\":\n",
        "      return (10 ** (fe / A) - 1) / 0.00437\n",
        "\n",
        "\n",
        "BarkConversionApproach = Literal[\n",
        "  \"Wang\", \"Tjomov\", \"Schroeder\", \"Terhardt\", \"Zwicker\", \"Traunmueller\"\n",
        "]\n",
        "\n",
        "\n",
        "def hz2bark(f: float, approach: BarkConversionApproach = \"Wang\") -> float:\n",
        "\n",
        "  if approach == \"Wang\":\n",
        "      return 6 * np.arcsinh(f / 600)\n",
        "  elif approach == \"Tjomov\":\n",
        "      return 6.7 * np.arcsinh((f + 20) / 600)\n",
        "  elif approach == \"Schroeder\":\n",
        "      return 7 * np.arcsinh(f / 650)\n",
        "  elif approach == \"Terhardt\":\n",
        "      return 13.3 * np.arctan((f * 0.75) / 1000)\n",
        "  elif approach == \"Zwicker\":\n",
        "      return 8.7 + 14.2 * np.log10(f / 1000)\n",
        "  elif approach == \"Traunmueller\":\n",
        "      return ((26.28 * f) / (1 + 1960)) - 0.53\n",
        "  else:\n",
        "      return 6 * np.arcsinh(f / 600)\n",
        "\n",
        "\n",
        "def bark2hz(fb: float, approach: BarkConversionApproach = \"Wang\") -> float:\n",
        "\n",
        "  if approach == \"Wang\":\n",
        "      return 600 * np.sinh(fb / 6)\n",
        "  elif approach == \"Tjomov\":\n",
        "      return 600 * np.sinh(fb / 6.7) - 20\n",
        "  elif approach == \"Schroeder\":\n",
        "      return 650 * np.sinh(fb / 7)\n",
        "  elif approach == \"Terhardt\":\n",
        "      return (1000 / 0.75) * np.tan(fb / 13)\n",
        "  elif approach == \"Zwicker\":\n",
        "      return 10 ** (((fb - 8.7) / 14.2) + 3)\n",
        "  elif approach == \"Traunmueller\":\n",
        "      return 1960 * (\n",
        "          (__traunmueller_helper(fb) + 0.53) / (26.28 - __traunmueller_helper(fb))\n",
        "      )\n",
        "  else:\n",
        "      return 600 * np.sinh(fb / 6)\n",
        "\n",
        "\n",
        "def __traunmueller_helper(fi: float) -> float:\n",
        "  \"\"\"\n",
        "  Helper funtion for the Traunmueller approach.\n",
        "  \"\"\"\n",
        "  if fi < 2:\n",
        "      return (fi - 0.3) / (0.85)\n",
        "  elif fi > 20.1:\n",
        "      return (fi + 4.422) / 1.22\n",
        "  else:\n",
        "      return fi\n",
        "\n",
        "\n",
        "MelConversionApproach = Literal[\"Oshaghnessy\", \"Lindsay\"]\n",
        "\n",
        "\n",
        "def hz2mel(f: float, approach: MelConversionApproach = \"Oshaghnessy\") -> float:\n",
        "\n",
        "  return {\n",
        "      \"Oshaghnessy\": 2595 * np.log10(1 + f / 700.0),\n",
        "      \"Lindsay\": 2410 * np.log10(1 + f / 625),\n",
        "  }[approach]\n",
        "\n",
        "\n",
        "def mel2hz(fm: float, approach: MelConversionApproach = \"Oshaghnessy\") -> float:\n",
        "  return {\n",
        "      \"Oshaghnessy\": 700 * (10 ** (fm / 2595.0) - 1),\n",
        "      \"Lindsay\": 625 * (10 ** (fm / 2410) - 1),\n",
        "  }[approach]"
      ]
    },
    {
      "cell_type": "code",
      "execution_count": 7,
      "metadata": {
        "id": "CRZ5pAHI60uf"
      },
      "outputs": [],
      "source": [
        "# exceptions.py\n",
        "\n",
        "ErrorMsgs = {\n",
        "  \"low_freq\": \"minimal frequency cannot be less than zero.\",\n",
        "  \"high_freq\": \"maximum frequency cannot be greater than half sampling frequency.\",\n",
        "  \"nfft\": \"size of the FFT must be an integer.\",\n",
        "  \"nfilts\": \"number of filters must be bigger than number of cepstrums\",\n",
        "  \"win_len_win_hop_comparison\": \"window's length has to be larger than the window's hop\",\n",
        "}\n",
        "\n",
        "\n",
        "class SpafeError(Exception):\n",
        "  \"\"\"\n",
        "  The root spafe exception class\n",
        "  \"\"\"\n",
        "\n",
        "\n",
        "class ParameterError(SpafeError):\n",
        "  \"\"\"\n",
        "  Exception class for mal-formed inputs\n",
        "  \"\"\"\n",
        "\n",
        "\n",
        "def assert_function_availability(hasattr_output):\n",
        "  # raise assertion error if function is not availible\n",
        "  if not hasattr_output:\n",
        "      raise AssertionError"
      ]
    },
    {
      "cell_type": "code",
      "execution_count": 8,
      "metadata": {
        "id": "H0BW_dzR69P4"
      },
      "outputs": [],
      "source": [
        "# filters.py\n",
        "\n",
        "import numpy as np\n",
        "from scipy import signal\n",
        "from typing_extensions import Literal\n",
        "\n",
        "ScaleType = Literal[\"ascendant\", \"descendant\", \"constant\"]\n",
        "\n",
        "\n",
        "def rasta_filter(x: np.ndarray) -> np.ndarray:\n",
        "  numer = np.arange(-2, 3)\n",
        "  numer = (-1 * numer) / np.sum(numer**2)\n",
        "  denom = np.array([1, -0.94])\n",
        "\n",
        "  z = signal.lfilter_zi(numer, 1)\n",
        "  y = np.zeros((x.shape))\n",
        "\n",
        "  for i in range(x.shape[0]):\n",
        "      # FIR for initial state response compuation\n",
        "      y1, z = signal.lfilter(numer, 1, x[i, 0:4], axis=0, zi=z * x[i, 0])\n",
        "      y1 = y1 * 0\n",
        "\n",
        "      # IIR\n",
        "      y2, _ = signal.lfilter(numer, denom, x[i, 4 : x.shape[1]], axis=0, zi=z)\n",
        "      y[i, :] = np.append(y1, y2)\n",
        "  return y\n",
        "\n",
        "\n",
        "def scale_fbank(scale: ScaleType, nfilts: int) -> np.ndarray:\n",
        "  return {\n",
        "      \"ascendant\": np.array([i / nfilts for i in range(1, nfilts + 1)]).reshape(\n",
        "          nfilts, 1\n",
        "      ),\n",
        "      \"descendant\": np.array([i / nfilts for i in range(nfilts, 0, -1)]).reshape(\n",
        "          nfilts, 1\n",
        "      ),\n",
        "      \"constant\": np.ones(shape=(nfilts, 1)),\n",
        "  }[scale]"
      ]
    },
    {
      "cell_type": "code",
      "execution_count": 9,
      "metadata": {
        "id": "zA0GDJuw7PrP"
      },
      "outputs": [],
      "source": [
        "\"\"\"\n",
        "\n",
        "- Description : Preprocessing utils implementation.\n",
        "- Copyright (c) 2019-2023 Ayoub Malek.\n",
        "This source code is licensed under the terms of the BSD 3-Clause License.\n",
        "For a copy, see <https://github.com/SuperKogito/spafe/blob/master/LICENSE>.\n",
        "\n",
        "\"\"\"\n",
        "from typing import Tuple\n",
        "\n",
        "import numpy as np\n",
        "from dataclasses import dataclass\n",
        "from typing_extensions import Literal\n",
        "\n",
        "\n",
        "WindowType = Literal[\"hanning\", \"bartlet\", \"kaiser\", \"blackman\", \"hamming\"]\n",
        "\n",
        "\n",
        "@dataclass\n",
        "class SlidingWindow:\n",
        "\n",
        "  win_len: float = 0.025\n",
        "  win_hop: float = 0.010\n",
        "  win_type: WindowType = \"hamming\"\n",
        "\n",
        "\n",
        "def zero_handling(x: np.ndarray) -> np.ndarray:\n",
        "  return np.where(x == 0, np.finfo(float).eps, x)\n",
        "\n",
        "\n",
        "def pre_emphasis(sig: np.ndarray, pre_emph_coeff: float = 0.97) -> np.ndarray:\n",
        "  return np.append(sig[0], sig[1:] - pre_emph_coeff * sig[:-1])\n",
        "\n",
        "\n",
        "def stride_trick(a: np.ndarray, stride_length: int, stride_step: int) -> np.ndarray:\n",
        "  a = np.array(a)\n",
        "  nrows = ((a.size - stride_length) // stride_step) + 1\n",
        "  n = a.strides[0]\n",
        "  return np.lib.stride_tricks.as_strided(\n",
        "      a, shape=(nrows, stride_length), strides=(stride_step * n, n)\n",
        "  )\n",
        "\n",
        "\n",
        "def framing(\n",
        "  sig: np.ndarray, fs: int = 16000, win_len: float = 0.025, win_hop: float = 0.01\n",
        ") -> Tuple[np.ndarray, int]:\n",
        "  # run checks and assertions\n",
        "  if win_len < win_hop:\n",
        "      raise ParameterError(ErrorMsgs[\"win_len_win_hop_comparison\"])\n",
        "\n",
        "  # compute frame length and frame step (convert from seconds to samples)\n",
        "  frame_length = int(win_len * fs)\n",
        "  frame_step = int(win_hop * fs)\n",
        "\n",
        "  # make sure to use integers as indices\n",
        "  frames = stride_trick(sig, frame_length, frame_step)\n",
        "\n",
        "  if len(frames[-1]) < frame_length:\n",
        "      frames[-1] = np.append(\n",
        "          frames[-1], np.array([0] * (frame_length - len(frames[0])))\n",
        "      )\n",
        "\n",
        "  return frames, frame_length\n",
        "\n",
        "def windowing(\n",
        "  frames: np.ndarray, frame_len: int, win_type: WindowType = \"hamming\"\n",
        ") -> np.ndarray:\n",
        "  return {\n",
        "      \"hanning\": np.hanning(frame_len) * frames,\n",
        "      \"bartlet\": np.bartlett(frame_len) * frames,\n",
        "      \"kaiser\": np.kaiser(frame_len, beta=14) * frames,\n",
        "      \"blackman\": np.blackman(frame_len) * frames,\n",
        "      \"hamming\": np.hamming(frame_len) * frames,\n",
        "  }[win_type]"
      ]
    },
    {
      "cell_type": "code",
      "execution_count": 10,
      "metadata": {
        "id": "5-uoQ91x82As"
      },
      "outputs": [],
      "source": [
        "# gammatone fbanks\n",
        "\n",
        "from typing import Optional, Tuple\n",
        "\n",
        "import numpy as np\n",
        "\n",
        "\n",
        "# Slaney's ERB Filter constants\n",
        "EarQ = 9.26449\n",
        "minBW = 24.7\n",
        "\n",
        "\n",
        "def generate_center_frequencies(\n",
        "  min_freq: float, max_freq: float, nfilts: int\n",
        ") -> np.ndarray:\n",
        "  # init vars\n",
        "  m = np.array(range(nfilts)) + 1\n",
        "  c = EarQ * minBW\n",
        "\n",
        "  # compute center frequencies\n",
        "  center_freqs = (max_freq + c) * np.exp(\n",
        "      (m / nfilts) * (np.log(min_freq + c) - np.log(max_freq + c))\n",
        "  ) - c\n",
        "  return center_freqs[::-1]\n",
        "\n",
        "\n",
        "def compute_gain(\n",
        "  fcs: np.ndarray, B: np.ndarray, wT: np.ndarray, T: float\n",
        ") -> Tuple[np.ndarray, np.ndarray]:\n",
        "  # pre-computations for simplification\n",
        "  K = np.exp(B * T)\n",
        "  Cos = np.cos(2 * fcs * np.pi * T)\n",
        "  Sin = np.sin(2 * fcs * np.pi * T)\n",
        "  Smax = np.sqrt(3 + 2 ** (3 / 2))\n",
        "  Smin = np.sqrt(3 - 2 ** (3 / 2))\n",
        "\n",
        "  # define A matrix rows\n",
        "  A11 = (Cos + Smax * Sin) / K\n",
        "  A12 = (Cos - Smax * Sin) / K\n",
        "  A13 = (Cos + Smin * Sin) / K\n",
        "  A14 = (Cos - Smin * Sin) / K\n",
        "\n",
        "  # Compute gain (vectorized)\n",
        "  A = np.array([A11, A12, A13, A14])\n",
        "  Kj = np.exp(1j * wT)\n",
        "  Kjmat = np.array([Kj, Kj, Kj, Kj]).T\n",
        "  G = 2 * T * Kjmat * (A.T - Kjmat)\n",
        "  Coe = -2 / K**2 - 2 * Kj**2 + 2 * (1 + Kj**2) / K\n",
        "  Gain = np.abs(G[:, 0] * G[:, 1] * G[:, 2] * G[:, 3] * Coe**-4)\n",
        "  return A, Gain\n",
        "\n",
        "\n",
        "def gammatone_filter_banks(\n",
        "  nfilts: int = 24,\n",
        "  nfft: int = 512,\n",
        "  fs: int = 16000,\n",
        "  low_freq: float = 0,\n",
        "  high_freq: Optional[float] = None,\n",
        "  scale: ScaleType = \"constant\",\n",
        "  order: int = 4,\n",
        "  conversion_approach: ErbConversionApproach = \"Glasberg\",\n",
        "):\n",
        "  # init freqs\n",
        "  high_freq = high_freq or fs / 2\n",
        "\n",
        "  # run checks\n",
        "  if low_freq < 0:\n",
        "      raise ParameterError(ErrorMsgs[\"low_freq\"])\n",
        "\n",
        "  if high_freq > (fs / 2):\n",
        "      raise ParameterError(ErrorMsgs[\"high_freq\"])\n",
        "\n",
        "  # define custom difference func\n",
        "  def Dif(u, a):\n",
        "      return u - a.reshape(nfilts, 1)\n",
        "\n",
        "  # init vars\n",
        "  fbank = np.zeros([nfilts, nfft])\n",
        "  width = 1.0\n",
        "  maxlen = nfft // 2 + 1\n",
        "  T = 1 / fs\n",
        "  n = 4\n",
        "  u = np.exp(1j * 2 * np.pi * np.array(range(nfft // 2 + 1)) / nfft)\n",
        "  idx = range(nfft // 2 + 1)\n",
        "\n",
        "  # computer center frequencies, convert to ERB scale and compute bandwidths\n",
        "  fcs = generate_center_frequencies(low_freq, high_freq, nfilts)\n",
        "  ERB = width * ((fcs / EarQ) ** order + minBW**order) ** (1 / order)\n",
        "  B = 1.019 * 2 * np.pi * ERB\n",
        "\n",
        "  # compute input vars\n",
        "  wT = 2 * fcs * np.pi * T\n",
        "  pole = np.exp(1j * wT) / np.exp(B * T)\n",
        "\n",
        "  # compute gain and A matrix\n",
        "  A, Gain = compute_gain(fcs, B, wT, T)\n",
        "\n",
        "  # compute fbank\n",
        "  fbank[:, idx] = (\n",
        "      (T**4 / Gain.reshape(nfilts, 1))\n",
        "      * np.abs(Dif(u, A[0]) * Dif(u, A[1]) * Dif(u, A[2]) * Dif(u, A[3]))\n",
        "      * np.abs(Dif(u, pole) * Dif(u, pole.conj())) ** (-n)\n",
        "  )\n",
        "\n",
        "  # make sure all filters has max value = 1.0\n",
        "  try:\n",
        "      fbank = np.array([f / np.max(f) for f in fbank[:, range(maxlen)]])\n",
        "\n",
        "  except BaseException:\n",
        "      fbank = fbank[:, idx]\n",
        "\n",
        "  # compute scaling\n",
        "  scaling = scale_fbank(scale=scale, nfilts=nfilts)\n",
        "  fbank = fbank * scaling\n",
        "  return fbank, np.array([hz2erb(freq, conversion_approach) for freq in fcs])"
      ]
    },
    {
      "cell_type": "code",
      "execution_count": 11,
      "metadata": {
        "id": "u5-4EZXe4Fpt"
      },
      "outputs": [],
      "source": [
        "# Compute gfccs\n",
        "\n",
        "from typing import Optional, Tuple\n",
        "\n",
        "import numpy as np\n",
        "from scipy.fftpack import dct\n",
        "\n",
        "\n",
        "\n",
        "\n",
        "def erb_spectrogram(\n",
        "  sig: np.ndarray,\n",
        "  fs: int = 16000,\n",
        "  pre_emph: bool = True,\n",
        "  pre_emph_coeff: float = 0.97,\n",
        "  window: Optional[SlidingWindow] = None,\n",
        "  nfilts: int = 24,\n",
        "  nfft: int = 512,\n",
        "  low_freq: float = 0,\n",
        "  high_freq: Optional[float] = None,\n",
        "  scale: ScaleType = \"constant\",\n",
        "  fbanks: Optional[np.ndarray] = None,\n",
        "  conversion_approach: ErbConversionApproach = \"Glasberg\",\n",
        ") -> Tuple[np.ndarray, np.ndarray]:\n",
        "\n",
        "  # get fbanks\n",
        "  if fbanks is None:\n",
        "      # compute fbanks\n",
        "      gamma_fbanks_mat, _ = gammatone_filter_banks(\n",
        "          nfilts=nfilts,\n",
        "          nfft=nfft,\n",
        "          fs=fs,\n",
        "          low_freq=low_freq,\n",
        "          high_freq=high_freq,\n",
        "          scale=scale,\n",
        "          conversion_approach=conversion_approach,\n",
        "      )\n",
        "      fbanks = gamma_fbanks_mat\n",
        "\n",
        "  # pre-emphasis\n",
        "  if pre_emph:\n",
        "      sig = pre_emphasis(sig=sig, pre_emph_coeff=0.97)\n",
        "\n",
        "  # init window\n",
        "  if window is None:\n",
        "      window = SlidingWindow()\n",
        "\n",
        "  # -> framing\n",
        "  frames, frame_length = framing(\n",
        "      sig=sig, fs=fs, win_len=window.win_len, win_hop=window.win_hop\n",
        "  )\n",
        "\n",
        "  # -> windowing\n",
        "  windows = windowing(frames=frames, frame_len=frame_length, win_type=window.win_type)\n",
        "\n",
        "  # -> FFT -> |.|\n",
        "  ## Magnitude of the FFT\n",
        "  fourrier_transform = np.absolute(np.fft.fft(windows, nfft))\n",
        "  fourrier_transform = fourrier_transform[:, : int(nfft / 2) + 1]\n",
        "\n",
        "  ## Power Spectrum\n",
        "  abs_fft_values = (1.0 / nfft) * np.square(fourrier_transform)\n",
        "\n",
        "  #  -> x Gammatone-fbanks\n",
        "  features = np.dot(abs_fft_values, fbanks.T)\n",
        "  return features, fourrier_transform\n",
        "\n",
        "\n",
        "def gfcc(\n",
        "  sig: np.ndarray,\n",
        "  fs: int = 16000,\n",
        "  num_ceps: int = 13,\n",
        "  pre_emph: bool = True,\n",
        "  pre_emph_coeff: float = 0.97,\n",
        "  window: Optional[SlidingWindow] = None,\n",
        "  nfilts: int = 24,\n",
        "  nfft: int = 512,\n",
        "  low_freq: float = 0,\n",
        "  high_freq: Optional[float] = None,\n",
        "  scale: ScaleType = \"constant\",\n",
        "  dct_type: int = 2,\n",
        "  use_energy: bool = False,\n",
        "  lifter: Optional[int] = None,\n",
        "  normalize: Optional[NormalizationType] = None,\n",
        "  fbanks: Optional[np.ndarray] = None,\n",
        "  conversion_approach: ErbConversionApproach = \"Glasberg\",\n",
        ") -> np.ndarray:\n",
        "\n",
        "  # run checks\n",
        "  if nfilts < num_ceps:\n",
        "      raise ParameterError(ErrorMsgs[\"nfilts\"])\n",
        "\n",
        "  # get features\n",
        "  features, fourrier_transform = erb_spectrogram(\n",
        "      sig=sig,\n",
        "      fs=fs,\n",
        "      pre_emph=pre_emph,\n",
        "      pre_emph_coeff=pre_emph_coeff,\n",
        "      window=window,\n",
        "      nfilts=nfilts,\n",
        "      nfft=nfft,\n",
        "      low_freq=low_freq,\n",
        "      high_freq=high_freq,\n",
        "      scale=scale,\n",
        "      conversion_approach=conversion_approach,\n",
        "      fbanks=fbanks,\n",
        "  )\n",
        "\n",
        "  # compute the filter bank energies\n",
        "  nonlin_rect_features = np.power(features, 1 / 3)\n",
        "  gfccs = dct(x=nonlin_rect_features, type=dct_type, axis=1, norm=\"ortho\")[\n",
        "      :, :num_ceps\n",
        "  ]\n",
        "\n",
        "  # use energy for 1st features column\n",
        "  if use_energy:\n",
        "      # compute the # Magnitude of the FFT and then the Power Spectrum\n",
        "      magnitude_frames = np.absolute(fourrier_transform)\n",
        "      power_frames = (1.0 / nfft) * ((magnitude_frames) ** 2)\n",
        "\n",
        "      # compute total energy in each frame\n",
        "      frame_energies = np.sum(power_frames, 1)\n",
        "\n",
        "      # Handling zero enegies\n",
        "      energy = zero_handling(frame_energies)\n",
        "      gfccs[:, 0] = np.log(energy)\n",
        "\n",
        "  # liftering\n",
        "  if lifter:\n",
        "      gfccs = lifter_ceps(gfccs, lifter)\n",
        "\n",
        "  # normalization\n",
        "  if normalize:\n",
        "      gfccs = normalize_ceps(gfccs, normalize)\n",
        "  return gfccs"
      ]
    },
    {
      "cell_type": "markdown",
      "metadata": {
        "id": "Gi_9dUbm_ExS"
      },
      "source": [
        "# **Trial to get GFCC**"
      ]
    },
    {
      "cell_type": "code",
      "execution_count": 12,
      "metadata": {
        "id": "qIwY9x7F99BO"
      },
      "outputs": [],
      "source": [
        "import librosa"
      ]
    },
    {
      "cell_type": "code",
      "execution_count": 13,
      "metadata": {
        "colab": {
          "base_uri": "https://localhost:8080/"
        },
        "id": "u_vfUdaK9E8o",
        "outputId": "e2bb44d9-e304-4b67-f6c9-13753245ce3c"
      },
      "outputs": [
        {
          "output_type": "execute_result",
          "data": {
            "text/plain": [
              "(800, 40)"
            ]
          },
          "metadata": {},
          "execution_count": 13
        }
      ],
      "source": [
        "audio_path = '/content/drive/MyDrive/Alzheimers dementia classification/dataset/dementia-audio-classify/adrso_002_2_cn.wav'\n",
        "waveform, sample_rate = librosa.load(audio_path)\n",
        "\n",
        "gfccs = gfcc(waveform, fs=sample_rate, num_ceps=40, window=SlidingWindow(0.03, 0.025, \"hamming\"), nfilts=45)\n",
        "gfccs.shape\n",
        "\n",
        "\n",
        "# spafe.features.gfcc.gfcc(sig, fs=16000, num_ceps=13, pre_emph=0, pre_emph_coeff=0.97,\n",
        "# win_len=0.025, win_hop=0.01, win_type='hamming', nfilts=26, nfft=512, low_freq=None, high_freq=None, scale='constant', dct_type=2, use_energy=False, lifter=22, normalize=1)"
      ]
    },
    {
      "cell_type": "markdown",
      "metadata": {
        "id": "UOuBZutn-16f"
      },
      "source": [
        "> Changing hop length to reduce image size"
      ]
    },
    {
      "cell_type": "markdown",
      "metadata": {
        "id": "Nl9Lm-nEIZSO"
      },
      "source": [
        "## **Extract GFCC's**"
      ]
    },
    {
      "cell_type": "code",
      "execution_count": 47,
      "metadata": {
        "id": "jXlEQPIVIZSQ"
      },
      "outputs": [],
      "source": [
        "def extract_3d_gfcc(audio_path):\n",
        "\n",
        "    # get audio\n",
        "    waveform, sample_rate = librosa.load(audio_path)\n",
        "\n",
        "    # # play audio\n",
        "    # IPython.display.Audio(data=waveform,rate = sample_rate)\n",
        "\n",
        "    # extract mfcc\n",
        "    # extarcting 40 for efficeint net\n",
        "    gfccs = gfcc(sig = waveform,fs = sample_rate,num_ceps=40,window=SlidingWindow(0.02, 0.02, \"hamming\"),nfilts = 45)\n",
        "\n",
        "    # extract delta mfcc\n",
        "    delta_gfcc = librosa.feature.delta(gfccs,order=1)\n",
        "\n",
        "    # extract delta-delta mfcc\n",
        "    delta_delta_gfcc = librosa.feature.delta(gfccs,order=2)\n",
        "\n",
        "    ## concatenate features along feature axis - along row - subject to change\n",
        "    #gfcc_features = np.concatenate((gfccs,delta_gfcc,delta_delta_gfcc),axis = 0)\n",
        "\n",
        "    # send three features\n",
        "    gfcc_features = [gfccs,delta_gfcc,delta_delta_gfcc]\n",
        "\n",
        "    return gfcc_features\n",
        "\n",
        "# extract_3d_gfcc('/content/drive/MyDrive/Alzheimers dementia classification/dataset/dementia-audio-classify/adrso_002_2_cn.wav')"
      ]
    },
    {
      "cell_type": "code",
      "execution_count": 48,
      "metadata": {
        "id": "OJfh3dcfB446",
        "colab": {
          "base_uri": "https://localhost:8080/"
        },
        "outputId": "be752c99-6c56-4c91-d327-99d81e5d5e0a"
      },
      "outputs": [
        {
          "output_type": "stream",
          "name": "stdout",
          "text": [
            "stacked_gfcc.shape = (1000, 40, 3)\n"
          ]
        }
      ],
      "source": [
        "audio_path = '/content/drive/MyDrive/Alzheimers dementia classification/dataset/dementia-audio-classify/adrso_002_2_cn.wav'\n",
        "\n",
        "# add gfcc's\n",
        "gfcc_3d = extract_3d_gfcc(audio_path)\n",
        "\n",
        "# stacked_gfcc\n",
        "stacked_gfcc = np.stack( (gfcc_3d[0] , gfcc_3d[1] , gfcc_3d[2]),axis = -1 )\n",
        "\n",
        "print(f'stacked_gfcc.shape = {stacked_gfcc.shape}')"
      ]
    },
    {
      "cell_type": "markdown",
      "metadata": {
        "id": "r_Gn0MauIZSQ"
      },
      "source": [
        "## **Build DataFrame**"
      ]
    },
    {
      "cell_type": "code",
      "execution_count": 49,
      "metadata": {
        "colab": {
          "base_uri": "https://localhost:8080/",
          "height": 570,
          "referenced_widgets": [
            "0263996e27af4b6cb6c2c6f531931e59",
            "0a5e2e816595490f98f3c4e9e025b1ce",
            "2c377b259bc545d7b0c25b03b189447e",
            "8344d5c2752c4ad79c41abff7b54b175",
            "c7fca23dbd9b483c9dc8807187a6c48b",
            "8bd592c6428a461882dc99a1b2ce1a76",
            "6cc1862585da4db9a35b1f15d85b0b43",
            "33aa89ebfad04696a0af3a173ae4fd2d",
            "70d49c58760648d7941104416b933d01",
            "deeafa80d0d24f4e8f2f4e9e8835e15c",
            "e44919e5864b4868819faeafd53701d7"
          ]
        },
        "id": "vgc9z40bIZSR",
        "outputId": "082fc6c2-4de5-42d9-94a4-1eaefaf75cf2"
      },
      "outputs": [
        {
          "metadata": {
            "tags": null
          },
          "name": "stdout",
          "output_type": "stream",
          "text": [
            "<class 'pandas.core.frame.DataFrame'>\n",
            "Index: 0 entries\n",
            "Data columns (total 8 columns):\n",
            " #   Column            Non-Null Count  Dtype \n",
            "---  ------            --------------  ----- \n",
            " 0   audio_path        0 non-null      object\n",
            " 1   subject           0 non-null      object\n",
            " 2   segment           0 non-null      object\n",
            " 3   gfcc              0 non-null      object\n",
            " 4   delta_gfcc        0 non-null      object\n",
            " 5   delta_delta_gfcc  0 non-null      object\n",
            " 6   stacked_gfcc      0 non-null      object\n",
            " 7   ad_or_not         0 non-null      object\n",
            "dtypes: object(8)\n",
            "memory usage: 0.0+ bytes\n"
          ]
        },
        {
          "data": {
            "application/vnd.jupyter.widget-view+json": {
              "model_id": "0263996e27af4b6cb6c2c6f531931e59",
              "version_major": 2,
              "version_minor": 0
            },
            "text/plain": [
              "  0%|          | 0/486 [00:00<?, ?it/s]"
            ]
          },
          "metadata": {},
          "output_type": "display_data"
        },
        {
          "output_type": "stream",
          "name": "stdout",
          "text": [
            "<class 'pandas.core.frame.DataFrame'>\n",
            "Int64Index: 486 entries, 0 to 485\n",
            "Data columns (total 8 columns):\n",
            " #   Column            Non-Null Count  Dtype \n",
            "---  ------            --------------  ----- \n",
            " 0   audio_path        486 non-null    object\n",
            " 1   subject           486 non-null    object\n",
            " 2   segment           486 non-null    object\n",
            " 3   gfcc              486 non-null    object\n",
            " 4   delta_gfcc        486 non-null    object\n",
            " 5   delta_delta_gfcc  486 non-null    object\n",
            " 6   stacked_gfcc      486 non-null    object\n",
            " 7   ad_or_not         486 non-null    object\n",
            "dtypes: object(8)\n",
            "memory usage: 34.2+ KB\n"
          ]
        }
      ],
      "source": [
        "# create data framesegment\n",
        "data = pd.DataFrame(columns=['audio_path','subject','segment','gfcc','delta_gfcc','delta_delta_gfcc','stacked_gfcc','ad_or_not'])\n",
        "data.info()\n",
        "\n",
        "# dataframe cols\n",
        "# path, subject ,segment , mfcc_3d, ad\n",
        "\n",
        "dir_path = '/content/drive/MyDrive/Alzheimers dementia classification/dataset/dementia-audio-classify/'\n",
        "files = os.listdir(dir_path)\n",
        "count = 0\n",
        "\n",
        "for file in tqdm(files):\n",
        "\n",
        "    elems = []\n",
        "    # 'audio_path','subject','segment','gfcc','delta_gfcc','delta_delta_gfcc','stacked_gfcc','ad_or_not'\n",
        "\n",
        "    audio_path = os.path.join(dir_path,file)\n",
        "    # audio_path\n",
        "    elems.append(audio_path)\n",
        "\n",
        "    parts = file.split('_')\n",
        "\n",
        "    subject = parts[1]\n",
        "    # subject\n",
        "    elems.append(subject)\n",
        "\n",
        "    segment = parts[2]\n",
        "    # segment\n",
        "    elems.append(segment)\n",
        "\n",
        "    # add gfcc's\n",
        "    gfcc_3d = extract_3d_gfcc(audio_path)\n",
        "\n",
        "    # gfcc\n",
        "    elems.append(gfcc_3d[0])\n",
        "\n",
        "    # delta_gfcc\n",
        "    elems.append(gfcc_3d[1])\n",
        "\n",
        "    # delta_delta_gfcc\n",
        "    elems.append(gfcc_3d[2])\n",
        "\n",
        "    # stacked_gfcc\n",
        "    stacked_gfcc = np.stack( (gfcc_3d[0] , gfcc_3d[1] , gfcc_3d[2]),axis = -1 )\n",
        "    elems.append(stacked_gfcc)\n",
        "\n",
        "\n",
        "    is_ad = parts[3].split('.')[0]\n",
        "    if is_ad == 'ad':\n",
        "        ad_or_not = 1\n",
        "    elif is_ad == 'cn':\n",
        "        ad_or_not = 0\n",
        "    # ad_or_not\n",
        "    elems.append(ad_or_not)\n",
        "\n",
        "    elems_ragged = np.asarray(elems,dtype= 'object')\n",
        "\n",
        "    # print(elems)\n",
        "\n",
        "    # add to data frame\n",
        "    leng = len(data)\n",
        "    data.loc[leng] = elems_ragged\n",
        "\n",
        "#     count += 1\n",
        "#     if count%5 == 0:\n",
        "#         print(count)\n",
        "data.info()"
      ]
    },
    {
      "cell_type": "code",
      "execution_count": null,
      "metadata": {
        "id": "6Vl9dBJ82Nzc"
      },
      "outputs": [],
      "source": [
        "# we have 2003 window frames\n",
        "# for each frame, we extract 20 ceps\n",
        "# to maintain that temporal feature, first column shud be => ceps of first frame, sec col is => ceps of second window frame\n",
        "# in the data we have, mfcc => first row is - ceps of first frame, sec row is - ceps of sec frame\n",
        "# so we find the transpose\n",
        "# then we stack"
      ]
    },
    {
      "cell_type": "code",
      "execution_count": 50,
      "metadata": {
        "colab": {
          "base_uri": "https://localhost:8080/"
        },
        "id": "k0XHNJNx4KFZ",
        "outputId": "5109ca25-f312-443e-f914-8e5eaab24f97"
      },
      "outputs": [
        {
          "output_type": "stream",
          "name": "stdout",
          "text": [
            "Number of frames = 1000\n",
            "Number of ceps in each frame = 40\n"
          ]
        },
        {
          "output_type": "execute_result",
          "data": {
            "text/plain": [
              "(1000, 40, 3)"
            ]
          },
          "metadata": {},
          "execution_count": 50
        }
      ],
      "source": [
        "all_frames_ceps = data.loc[1,'gfcc']\n",
        "each_frame_ceps = data.loc[1,'gfcc'][0]\n",
        "\n",
        "print(f'Number of frames = {len(all_frames_ceps)}')\n",
        "print(f'Number of ceps in each frame = {len(each_frame_ceps)}')\n",
        "all_frames_ceps = data.loc[1,'stacked_gfcc'].shape\n",
        "all_frames_ceps"
      ]
    },
    {
      "cell_type": "markdown",
      "metadata": {
        "id": "O6mJ2EUtBy7t"
      },
      "source": [
        "## **Visualize stacked array of gfcc's**"
      ]
    },
    {
      "cell_type": "code",
      "execution_count": null,
      "metadata": {
        "id": "_Q6Z787027TO"
      },
      "outputs": [],
      "source": [
        "# data_1 = data.copy()\n",
        "# stcked_gfcc = data_1.loc[1,'stacked_gfcc']\n",
        "\n",
        "# type(stcked_gfcc)"
      ]
    },
    {
      "cell_type": "markdown",
      "metadata": {
        "id": "4VQCWcOmIZST"
      },
      "source": [
        "### **Split data into train and test 70:30**"
      ]
    },
    {
      "cell_type": "code",
      "execution_count": 51,
      "metadata": {
        "colab": {
          "base_uri": "https://localhost:8080/"
        },
        "id": "Im9qRMJCem_F",
        "outputId": "192bfd2f-b675-4ff3-858e-b5a0507c0986"
      },
      "outputs": [
        {
          "output_type": "stream",
          "name": "stdout",
          "text": [
            "Labels length = 486\n",
            "GFCCs length = 486\n",
            "\n",
            "shape(stcked_gfcc[0]) = (1000, 40, 3)\n",
            "len(stcked_gfcc[0][0]) = 40\n"
          ]
        }
      ],
      "source": [
        "# vertical stacking\n",
        "\n",
        "\n",
        "labels = []\n",
        "stcked_gfcc = []\n",
        "\n",
        "for elem in range(len(data)):\n",
        "\n",
        "    gfcc_stcked = data.loc[elem,'stacked_gfcc']\n",
        "\n",
        "    # reshape (800, 120) to (800, 120, 1)\n",
        "    # gfcc_stacked_reshaped = np.expand_dims(gfcc_stcked,axis = -1)  # -1 indicates choose appropriate position\n",
        "\n",
        "    stcked_gfcc.append(gfcc_stcked)\n",
        "\n",
        "    labels.append(data.loc[elem,'ad_or_not'])\n",
        "\n",
        "\n",
        "\n",
        "    # gfcc_lyr_1 = np.transpose(data.loc[elem,'gfcc'])\n",
        "    # gfcc_lyr_2 = np.transpose(data.loc[elem,'delta_gfcc'])\n",
        "    # gfcc_lyr_3 = np.transpose(data.loc[elem,'delta_delta_gfcc'])\n",
        "    # gfcc_stcked = np.stack((gfcc_lyr_1,gfcc_lyr_2,gfcc_lyr_3))\n",
        "    # stcked_gfcc.append(gfcc_stcked)\n",
        "\n",
        "print(f'Labels length = {len(labels)}')\n",
        "print(f'GFCCs length = {len(stcked_gfcc)}\\n')\n",
        "\n",
        "\n",
        "print(f'shape(stcked_gfcc[0]) = {stcked_gfcc[0].shape}')\n",
        "print(f'len(stcked_gfcc[0][0]) = {len(stcked_gfcc[0][0])}')\n",
        "\n",
        "\n",
        "# convert to numpy array\n",
        "stcked_gfcc = np.array(stcked_gfcc)\n",
        "labels = np.array(labels)\n",
        "\n",
        "labels = to_categorical(labels, num_classes=2)"
      ]
    },
    {
      "cell_type": "code",
      "execution_count": 52,
      "metadata": {
        "colab": {
          "base_uri": "https://localhost:8080/"
        },
        "id": "xG7EkWETjxmJ",
        "outputId": "bfe5a3ed-ce92-4327-8da5-fd59705930f9"
      },
      "outputs": [
        {
          "output_type": "stream",
          "name": "stdout",
          "text": [
            "Max value in stacked_gfcc imaegs arrray = 3.4800956680978476\n",
            "Min value in stacked_gfcc imaegs arrray = -4.167474483759809\n"
          ]
        }
      ],
      "source": [
        "\n",
        "print(f'Max value in stacked_gfcc imaegs arrray = {np.max(stcked_gfcc)}')\n",
        "print(f'Min value in stacked_gfcc imaegs arrray = {np.min(stcked_gfcc)}')"
      ]
    },
    {
      "cell_type": "code",
      "execution_count": null,
      "metadata": {
        "id": "Dx0Eh0HxleAd"
      },
      "outputs": [],
      "source": [
        "# stcked_gfcc = []\n",
        "# labels = []\n",
        "# for elem in range(len(data_1)):\n",
        "#     gfcc_lyr_1 = np.transpose(data.loc[elem,'gfcc'])\n",
        "#     gfcc_lyr_2 = np.transpose(data.loc[elem,'delta_gfcc'])\n",
        "#     gfcc_lyr_3 = np.transpose(data.loc[elem,'delta_delta_gfcc'])\n",
        "#     gfcc_stcked = np.stack((gfcc_lyr_1,gfcc_lyr_2,gfcc_lyr_3))\n",
        "#     stcked_gfcc.append(gfcc_stcked)\n",
        "#     labels.append(data.loc[elem,'ad_or_not'])\n",
        "\n",
        "# print(f'Labels length = {len(labels)}')\n",
        "# print(f'GFCCs length = {len(stcked_gfcc)}\\n')\n",
        "\n",
        "\n",
        "# print(f'shape(stcked_gfcc[0]) = {stcked_gfcc[0].shape}')\n",
        "# print(f'len(stcked_gfcc[0][0]) = {len(stcked_gfcc[0][0])}')"
      ]
    },
    {
      "cell_type": "code",
      "execution_count": 53,
      "metadata": {
        "id": "Beok6Z2wIZST"
      },
      "outputs": [],
      "source": [
        "from sklearn.model_selection import train_test_split\n",
        "\n",
        "\n",
        "x_gfcc_train,x_gfcc_test,y_gfcc_train,y_gfcc_test = train_test_split(stcked_gfcc,labels,train_size = 0.7, random_state = 10)"
      ]
    },
    {
      "cell_type": "markdown",
      "metadata": {
        "id": "6d4RpJSTIZST"
      },
      "source": [
        "### **Value distribution in train and test**"
      ]
    },
    {
      "cell_type": "code",
      "execution_count": 24,
      "metadata": {
        "colab": {
          "base_uri": "https://localhost:8080/"
        },
        "id": "N1qilBmCIZST",
        "outputId": "0eece164-7c5f-4121-c209-577e3b8bd74f"
      },
      "outputs": [
        {
          "output_type": "stream",
          "name": "stdout",
          "text": [
            "Training Set Label Distribution:\n",
            "Positive Count: 340\n",
            "Negative Count: 340\n",
            "\n",
            "Testing Set Label Distribution:\n",
            "Positive Count: 146\n",
            "Negative Count: 146\n"
          ]
        },
        {
          "output_type": "execute_result",
          "data": {
            "text/plain": [
              "array([0., 1.], dtype=float32)"
            ]
          },
          "metadata": {},
          "execution_count": 24
        }
      ],
      "source": [
        "# Calculating the number of positive and negative classes in the training set\n",
        "train_positive_count = np.sum(np.array(y_gfcc_train) == 1)\n",
        "train_negative_count = np.sum(np.array(y_gfcc_train) == 0)\n",
        "\n",
        "# Calculating the number of positive and negative classes in the testing set\n",
        "test_positive_count = np.sum(np.array(y_gfcc_test) == 1)\n",
        "test_negative_count = np.sum(np.array(y_gfcc_test) == 0)\n",
        "\n",
        "# Displaying the label distribution\n",
        "print(\"Training Set Label Distribution:\")\n",
        "print(f\"Positive Count: {train_positive_count}\")\n",
        "print(f\"Negative Count: {train_negative_count}\")\n",
        "\n",
        "print(\"\\nTesting Set Label Distribution:\")\n",
        "print(f\"Positive Count: {test_positive_count}\")\n",
        "print(f\"Negative Count: {test_negative_count}\")\n",
        "\n",
        "(y_gfcc_train[0])"
      ]
    },
    {
      "cell_type": "markdown",
      "metadata": {
        "id": "RiFQkGLFIZST"
      },
      "source": [
        "### **Building model**"
      ]
    },
    {
      "cell_type": "code",
      "execution_count": null,
      "metadata": {
        "id": "tT7TScKBIZSU"
      },
      "outputs": [],
      "source": [
        "# !pip install --upgrade tensorflow\n",
        "# !pip install --upgrade tensorflow-io"
      ]
    },
    {
      "cell_type": "code",
      "execution_count": null,
      "metadata": {
        "id": "0k7sNOtbqj9x"
      },
      "outputs": [],
      "source": [
        "# keras.utils.plot_model(efficient_net_model, show_shapes=True)"
      ]
    },
    {
      "cell_type": "code",
      "execution_count": 54,
      "metadata": {
        "id": "0-7wqOg5rXo6"
      },
      "outputs": [],
      "source": [
        "# efficient_net_model.summary(line_length=110)"
      ]
    },
    {
      "cell_type": "code",
      "source": [
        "from tensorflow.keras.layers import Dense\n",
        "from tensorflow.keras.models import Model\n",
        "from tensorflow.keras.optimizers import SGD"
      ],
      "metadata": {
        "id": "q46snjMhSaVF"
      },
      "execution_count": 58,
      "outputs": []
    },
    {
      "cell_type": "code",
      "execution_count": 62,
      "metadata": {
        "id": "F7oAQSnkJvt2",
        "colab": {
          "base_uri": "https://localhost:8080/"
        },
        "outputId": "af34cffb-a7d0-4e66-ff9b-42208de8f3f1"
      },
      "outputs": [
        {
          "output_type": "stream",
          "name": "stdout",
          "text": [
            "Epoch 1/10\n",
            "11/11 [==============================] - 149s 10s/step - loss: 0.0744 - accuracy: 0.4588 - val_loss: 0.0433 - val_accuracy: 0.6370\n",
            "Epoch 2/10\n",
            "11/11 [==============================] - 105s 10s/step - loss: 0.0440 - accuracy: 0.5206 - val_loss: 0.0427 - val_accuracy: 0.6370\n",
            "Epoch 3/10\n",
            "11/11 [==============================] - 104s 10s/step - loss: 0.0431 - accuracy: 0.5412 - val_loss: 0.0423 - val_accuracy: 0.6370\n",
            "Epoch 4/10\n",
            "11/11 [==============================] - 104s 9s/step - loss: 0.0496 - accuracy: 0.5529 - val_loss: 0.0419 - val_accuracy: 0.6370\n",
            "Epoch 5/10\n",
            "11/11 [==============================] - 105s 10s/step - loss: 0.0439 - accuracy: 0.5824 - val_loss: 0.0416 - val_accuracy: 0.6370\n",
            "Epoch 6/10\n",
            "11/11 [==============================] - 104s 9s/step - loss: 0.0413 - accuracy: 0.6059 - val_loss: 0.0412 - val_accuracy: 0.6370\n",
            "Epoch 7/10\n",
            "11/11 [==============================] - 105s 10s/step - loss: 0.0401 - accuracy: 0.5912 - val_loss: 0.0405 - val_accuracy: 0.6370\n",
            "Epoch 8/10\n",
            "11/11 [==============================] - 102s 9s/step - loss: 0.0397 - accuracy: 0.6059 - val_loss: 0.0394 - val_accuracy: 0.6370\n",
            "Epoch 9/10\n",
            "11/11 [==============================] - 105s 10s/step - loss: 0.0413 - accuracy: 0.5882 - val_loss: 0.0384 - val_accuracy: 0.6370\n",
            "Epoch 10/10\n",
            "11/11 [==============================] - 106s 10s/step - loss: 0.0392 - accuracy: 0.5971 - val_loss: 0.0390 - val_accuracy: 0.6370\n"
          ]
        }
      ],
      "source": [
        "base_efficient_net_model = EfficientNetB0(weights = None,\n",
        "                                     include_top = False,\n",
        "                                     input_shape = (1000, 40 ,3),\n",
        "                                     pooling = 'max',\n",
        "                                     classes = 2,\n",
        "                                     drop_connect_rate = 0.2)\n",
        "\n",
        "x = base_efficient_net_model.output\n",
        "x = Dense(1024, activation = 'relu')(x)\n",
        "x = Dense(512, activation = 'relu')(x)\n",
        "x = Dense(256, activation = 'relu')(x)\n",
        "x = Dense(128, activation = 'relu')(x)\n",
        "x = Dense(64, activation = 'relu')(x)\n",
        "x = Dense(32, activation = 'relu')(x)\n",
        "x = Dense(16, activation = 'relu')(x)\n",
        "x = Dense(8, activation = 'relu')(x)\n",
        "predictions = Dense(2,  activation = 'softmax')(x)\n",
        "\n",
        "model = Model(inputs = base_efficient_net_model.input, outputs = predictions)\n",
        "\n",
        "def focal_loss(gamma=2.0, alpha=0.25):\n",
        "    def loss(y_true, y_pred):\n",
        "        epsilon = tensorflow.keras.backend.epsilon()\n",
        "        y_pred = tensorflow.clip_by_value(y_pred, epsilon, 1.0 - epsilon)\n",
        "        cross_entropy = tensorflow.keras.losses.CategoricalCrossentropy()(y_true, y_pred)\n",
        "        weight = tensorflow.pow(1 - y_pred, gamma)\n",
        "        alpha_weight = alpha * y_true\n",
        "        focal_loss = weight * alpha_weight * cross_entropy\n",
        "        return tensorflow.reduce_sum(focal_loss, axis=-1)\n",
        "    return loss\n",
        "\n",
        "\n",
        "# Compile the model\n",
        "model.compile(optimizer= 'adam', loss=focal_loss(gamma=2.0, alpha=0.25), metrics=['accuracy'])\n",
        "\n",
        "# Train the model and record loss\n",
        "history = model.fit(x_gfcc_train, y_gfcc_train, epochs=10, validation_data=(x_gfcc_test, y_gfcc_test))\n",
        "\n"
      ]
    },
    {
      "cell_type": "code",
      "source": [
        "import matplotlib.pyplot as plt\n",
        "\n",
        "# plot loss\n",
        "train_loss = history.history['loss']\n",
        "test_loss = history.history['val_loss']\n",
        "\n",
        "plt.plot(train_loss,label = 'Training loss')\n",
        "plt.plot(test_loss,label = 'Testing loss')\n",
        "\n",
        "plt.title('Loss During Training')\n",
        "plt.xlabel('Epochs')\n",
        "plt.ylabel('Loss')\n",
        "plt.legend()\n",
        "plt.show()\n",
        "\n",
        "# Evaluate the model on the test data\n",
        "loss, accuracy = model.evaluate(x_gfcc_test, y_gfcc_test)\n",
        "\n",
        "# Print the metrics\n",
        "print(\"Test Loss:\", loss)\n",
        "print(f\"Test Accuracy:{round((accuracy * 100 ),2)}%\")"
      ],
      "metadata": {
        "colab": {
          "base_uri": "https://localhost:8080/",
          "height": 524
        },
        "id": "f-Jpgl9VxSOH",
        "outputId": "79eb74d8-68c7-4756-ea6b-99fea5dbefdf"
      },
      "execution_count": 63,
      "outputs": [
        {
          "output_type": "display_data",
          "data": {
            "text/plain": [
              "<Figure size 640x480 with 1 Axes>"
            ],
            "image/png": "[encoded data removed]"
          },
          "metadata": {}
        },
        {
          "output_type": "stream",
          "name": "stdout",
          "text": [
            "5/5 [==============================] - 14s 3s/step - loss: 0.0390 - accuracy: 0.6370\n",
            "Test Loss: 0.038967013359069824\n",
            "Test Accuracy:63.7%\n"
          ]
        }
      ]
    }
  ],
  "metadata": {
    "colab": {
      "provenance": []
    },
    "kernelspec": {
      "display_name": "Python 3",
      "name": "python3"
    },
    "language_info": {
      "name": "python"
    },
    "widgets": {
      "application/vnd.jupyter.widget-state+json": {
        "0263996e27af4b6cb6c2c6f531931e59": {
          "model_module": "@jupyter-widgets/controls",
          "model_name": "HBoxModel",
          "model_module_version": "1.5.0",
          "state": {
            "_dom_classes": [],
            "_model_module": "@jupyter-widgets/controls",
            "_model_module_version": "1.5.0",
            "_model_name": "HBoxModel",
            "_view_count": null,
            "_view_module": "@jupyter-widgets/controls",
            "_view_module_version": "1.5.0",
            "_view_name": "HBoxView",
            "box_style": "",
            "children": [
              "IPY_MODEL_0a5e2e816595490f98f3c4e9e025b1ce",
              "IPY_MODEL_2c377b259bc545d7b0c25b03b189447e",
              "IPY_MODEL_8344d5c2752c4ad79c41abff7b54b175"
            ],
            "layout": "IPY_MODEL_c7fca23dbd9b483c9dc8807187a6c48b"
          }
        },
        "0a5e2e816595490f98f3c4e9e025b1ce": {
          "model_module": "@jupyter-widgets/controls",
          "model_name": "HTMLModel",
          "model_module_version": "1.5.0",
          "state": {
            "_dom_classes": [],
            "_model_module": "@jupyter-widgets/controls",
            "_model_module_version": "1.5.0",
            "_model_name": "HTMLModel",
            "_view_count": null,
            "_view_module": "@jupyter-widgets/controls",
            "_view_module_version": "1.5.0",
            "_view_name": "HTMLView",
            "description": "",
            "description_tooltip": null,
            "layout": "IPY_MODEL_8bd592c6428a461882dc99a1b2ce1a76",
            "placeholder": "​",
            "style": "IPY_MODEL_6cc1862585da4db9a35b1f15d85b0b43",
            "value": "100%"
          }
        },
        "2c377b259bc545d7b0c25b03b189447e": {
          "model_module": "@jupyter-widgets/controls",
          "model_name": "FloatProgressModel",
          "model_module_version": "1.5.0",
          "state": {
            "_dom_classes": [],
            "_model_module": "@jupyter-widgets/controls",
            "_model_module_version": "1.5.0",
            "_model_name": "FloatProgressModel",
            "_view_count": null,
            "_view_module": "@jupyter-widgets/controls",
            "_view_module_version": "1.5.0",
            "_view_name": "ProgressView",
            "bar_style": "success",
            "description": "",
            "description_tooltip": null,
            "layout": "IPY_MODEL_33aa89ebfad04696a0af3a173ae4fd2d",
            "max": 486,
            "min": 0,
            "orientation": "horizontal",
            "style": "IPY_MODEL_70d49c58760648d7941104416b933d01",
            "value": 486
          }
        },
        "8344d5c2752c4ad79c41abff7b54b175": {
          "model_module": "@jupyter-widgets/controls",
          "model_name": "HTMLModel",
          "model_module_version": "1.5.0",
          "state": {
            "_dom_classes": [],
            "_model_module": "@jupyter-widgets/controls",
            "_model_module_version": "1.5.0",
            "_model_name": "HTMLModel",
            "_view_count": null,
            "_view_module": "@jupyter-widgets/controls",
            "_view_module_version": "1.5.0",
            "_view_name": "HTMLView",
            "description": "",
            "description_tooltip": null,
            "layout": "IPY_MODEL_deeafa80d0d24f4e8f2f4e9e8835e15c",
            "placeholder": "​",
            "style": "IPY_MODEL_e44919e5864b4868819faeafd53701d7",
            "value": " 486/486 [00:43&lt;00:00, 14.93it/s]"
          }
        },
        "c7fca23dbd9b483c9dc8807187a6c48b": {
          "model_module": "@jupyter-widgets/base",
          "model_name": "LayoutModel",
          "model_module_version": "1.2.0",
          "state": {
            "_model_module": "@jupyter-widgets/base",
            "_model_module_version": "1.2.0",
            "_model_name": "LayoutModel",
            "_view_count": null,
            "_view_module": "@jupyter-widgets/base",
            "_view_module_version": "1.2.0",
            "_view_name": "LayoutView",
            "align_content": null,
            "align_items": null,
            "align_self": null,
            "border": null,
            "bottom": null,
            "display": null,
            "flex": null,
            "flex_flow": null,
            "grid_area": null,
            "grid_auto_columns": null,
            "grid_auto_flow": null,
            "grid_auto_rows": null,
            "grid_column": null,
            "grid_gap": null,
            "grid_row": null,
            "grid_template_areas": null,
            "grid_template_columns": null,
            "grid_template_rows": null,
            "height": null,
            "justify_content": null,
            "justify_items": null,
            "left": null,
            "margin": null,
            "max_height": null,
            "max_width": null,
            "min_height": null,
            "min_width": null,
            "object_fit": null,
            "object_position": null,
            "order": null,
            "overflow": null,
            "overflow_x": null,
            "overflow_y": null,
            "padding": null,
            "right": null,
            "top": null,
            "visibility": null,
            "width": null
          }
        },
        "8bd592c6428a461882dc99a1b2ce1a76": {
          "model_module": "@jupyter-widgets/base",
          "model_name": "LayoutModel",
          "model_module_version": "1.2.0",
          "state": {
            "_model_module": "@jupyter-widgets/base",
            "_model_module_version": "1.2.0",
            "_model_name": "LayoutModel",
            "_view_count": null,
            "_view_module": "@jupyter-widgets/base",
            "_view_module_version": "1.2.0",
            "_view_name": "LayoutView",
            "align_content": null,
            "align_items": null,
            "align_self": null,
            "border": null,
            "bottom": null,
            "display": null,
            "flex": null,
            "flex_flow": null,
            "grid_area": null,
            "grid_auto_columns": null,
            "grid_auto_flow": null,
            "grid_auto_rows": null,
            "grid_column": null,
            "grid_gap": null,
            "grid_row": null,
            "grid_template_areas": null,
            "grid_template_columns": null,
            "grid_template_rows": null,
            "height": null,
            "justify_content": null,
            "justify_items": null,
            "left": null,
            "margin": null,
            "max_height": null,
            "max_width": null,
            "min_height": null,
            "min_width": null,
            "object_fit": null,
            "object_position": null,
            "order": null,
            "overflow": null,
            "overflow_x": null,
            "overflow_y": null,
            "padding": null,
            "right": null,
            "top": null,
            "visibility": null,
            "width": null
          }
        },
        "6cc1862585da4db9a35b1f15d85b0b43": {
          "model_module": "@jupyter-widgets/controls",
          "model_name": "DescriptionStyleModel",
          "model_module_version": "1.5.0",
          "state": {
            "_model_module": "@jupyter-widgets/controls",
            "_model_module_version": "1.5.0",
            "_model_name": "DescriptionStyleModel",
            "_view_count": null,
            "_view_module": "@jupyter-widgets/base",
            "_view_module_version": "1.2.0",
            "_view_name": "StyleView",
            "description_width": ""
          }
        },
        "33aa89ebfad04696a0af3a173ae4fd2d": {
          "model_module": "@jupyter-widgets/base",
          "model_name": "LayoutModel",
          "model_module_version": "1.2.0",
          "state": {
            "_model_module": "@jupyter-widgets/base",
            "_model_module_version": "1.2.0",
            "_model_name": "LayoutModel",
            "_view_count": null,
            "_view_module": "@jupyter-widgets/base",
            "_view_module_version": "1.2.0",
            "_view_name": "LayoutView",
            "align_content": null,
            "align_items": null,
            "align_self": null,
            "border": null,
            "bottom": null,
            "display": null,
            "flex": null,
            "flex_flow": null,
            "grid_area": null,
            "grid_auto_columns": null,
            "grid_auto_flow": null,
            "grid_auto_rows": null,
            "grid_column": null,
            "grid_gap": null,
            "grid_row": null,
            "grid_template_areas": null,
            "grid_template_columns": null,
            "grid_template_rows": null,
            "height": null,
            "justify_content": null,
            "justify_items": null,
            "left": null,
            "margin": null,
            "max_height": null,
            "max_width": null,
            "min_height": null,
            "min_width": null,
            "object_fit": null,
            "object_position": null,
            "order": null,
            "overflow": null,
            "overflow_x": null,
            "overflow_y": null,
            "padding": null,
            "right": null,
            "top": null,
            "visibility": null,
            "width": null
          }
        },
        "70d49c58760648d7941104416b933d01": {
          "model_module": "@jupyter-widgets/controls",
          "model_name": "ProgressStyleModel",
          "model_module_version": "1.5.0",
          "state": {
            "_model_module": "@jupyter-widgets/controls",
            "_model_module_version": "1.5.0",
            "_model_name": "ProgressStyleModel",
            "_view_count": null,
            "_view_module": "@jupyter-widgets/base",
            "_view_module_version": "1.2.0",
            "_view_name": "StyleView",
            "bar_color": null,
            "description_width": ""
          }
        },
        "deeafa80d0d24f4e8f2f4e9e8835e15c": {
          "model_module": "@jupyter-widgets/base",
          "model_name": "LayoutModel",
          "model_module_version": "1.2.0",
          "state": {
            "_model_module": "@jupyter-widgets/base",
            "_model_module_version": "1.2.0",
            "_model_name": "LayoutModel",
            "_view_count": null,
            "_view_module": "@jupyter-widgets/base",
            "_view_module_version": "1.2.0",
            "_view_name": "LayoutView",
            "align_content": null,
            "align_items": null,
            "align_self": null,
            "border": null,
            "bottom": null,
            "display": null,
            "flex": null,
            "flex_flow": null,
            "grid_area": null,
            "grid_auto_columns": null,
            "grid_auto_flow": null,
            "grid_auto_rows": null,
            "grid_column": null,
            "grid_gap": null,
            "grid_row": null,
            "grid_template_areas": null,
            "grid_template_columns": null,
            "grid_template_rows": null,
            "height": null,
            "justify_content": null,
            "justify_items": null,
            "left": null,
            "margin": null,
            "max_height": null,
            "max_width": null,
            "min_height": null,
            "min_width": null,
            "object_fit": null,
            "object_position": null,
            "order": null,
            "overflow": null,
            "overflow_x": null,
            "overflow_y": null,
            "padding": null,
            "right": null,
            "top": null,
            "visibility": null,
            "width": null
          }
        },
        "e44919e5864b4868819faeafd53701d7": {
          "model_module": "@jupyter-widgets/controls",
          "model_name": "DescriptionStyleModel",
          "model_module_version": "1.5.0",
          "state": {
            "_model_module": "@jupyter-widgets/controls",
            "_model_module_version": "1.5.0",
            "_model_name": "DescriptionStyleModel",
            "_view_count": null,
            "_view_module": "@jupyter-widgets/base",
            "_view_module_version": "1.2.0",
            "_view_name": "StyleView",
            "description_width": ""
          }
        }
      }
    }
  },
  "nbformat": 4,
  "nbformat_minor": 0
}